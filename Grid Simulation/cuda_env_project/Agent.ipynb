{
 "cells": [
  {
   "cell_type": "code",
   "execution_count": 1,
   "metadata": {},
   "outputs": [],
   "source": [
    "# Torch\n",
    "import torch\n",
    "import torch.nn as nn\n",
    "import torch.nn.functional as F\n",
    "import torch.optim as optim\n",
    "from torch.distributions import Categorical\n",
    "\n",
    "import numpy as np\n",
    "\n",
    "from torch import multiprocessing\n",
    "\n",
    "%reload_ext autoreload\n",
    "%autoreload 2\n",
    "\n",
    "from cuda_square_simulation import SquareSimulation\n",
    "\n",
    "# Utils\n",
    "torch.manual_seed(0)\n",
    "from matplotlib import pyplot as plt\n",
    "from tqdm.notebook import tqdm"
   ]
  },
  {
   "cell_type": "code",
   "execution_count": 2,
   "metadata": {},
   "outputs": [],
   "source": [
    "def clever_single_action(env, action_batch, obs_indices):\n",
    "    # By default, random actions\n",
    "    actions = env.get_random_action_grid()\n",
    "    \n",
    "    batch_idx, x_idx, y_idx = obs_indices.T\n",
    "\n",
    "    # Now assign:\n",
    "    actions[batch_idx, x_idx, y_idx] = action_batch.float()\n",
    "    \n",
    "    return actions"
   ]
  },
  {
   "cell_type": "markdown",
   "metadata": {},
   "source": [
    "# Unstable REINFORCE"
   ]
  },
  {
   "cell_type": "code",
   "execution_count": 2,
   "metadata": {},
   "outputs": [
    {
     "name": "stdout",
     "output_type": "stream",
     "text": [
      "Using device: cuda:0\n"
     ]
    }
   ],
   "source": [
    "is_fork = multiprocessing.get_start_method() == \"fork\"\n",
    "device = (\n",
    "    torch.device(0)\n",
    "    if torch.cuda.is_available() and not is_fork\n",
    "    else torch.device(\"cpu\")\n",
    ")\n",
    "\n",
    "print(f\"Using device: {device}\")\n",
    "\n",
    "num_cells = 256  # number of cells in each layer i.e. output dim.\n",
    "lr = 5e-3\n",
    "max_grad_norm = 1.0\n",
    "\n",
    "sub_batch_size = 64  # cardinality of the sub-samples gathered from the current data in the inner loop\n",
    "num_epochs = 10  # optimization steps per batch of data collected\n",
    "clip_epsilon = (\n",
    "    0.2  # clip value for PPO loss: see the equation in the intro for more context.\n",
    ")"
   ]
  },
  {
   "cell_type": "code",
   "execution_count": 3,
   "metadata": {},
   "outputs": [],
   "source": [
    "# Define the observation shape as returned by get_deep_observations.\n",
    "# For example, if your simulation returns patches of shape (C, obs_size, obs_size)\n",
    "# and C = number_of_populations (say 3) and obs_size is 5:\n",
    "obs_shape = (3, 5, 5)\n",
    "\n",
    "# Simple policy network for a discrete action space (0 to 16):\n",
    "class PolicyNet(nn.Module):\n",
    "    def __init__(self, obs_shape, num_actions=17):        \n",
    "        super().__init__()\n",
    "        \n",
    "        self.saved_log_probs = []\n",
    "        self.rewards = []\n",
    "        \n",
    "        self.all_rewards = []\n",
    "        self.all_losses = []\n",
    "        self.action_counts = [0] * num_actions\n",
    "        \n",
    "        C, H, W = obs_shape\n",
    "        # Flatten the observation\n",
    "        self.flatten = nn.Flatten()\n",
    "        self.fc1 = nn.Linear(C * H * W, 100)\n",
    "        self.dropout = nn.Dropout(p=0.1)\n",
    "        self.fc2 = nn.Linear(100, num_actions)\n",
    "        #self.fc3 = nn.Linear(100, num_actions)\n",
    "        \n",
    "    def forward(self, x):\n",
    "        # x shape: (batch, C, H, W)\n",
    "        x = x.view(x.size(0), -1)  # Flatten the input\n",
    "        x = torch.relu(self.fc1(x))\n",
    "        \n",
    "        x = self.dropout(x)  # Apply dropout\n",
    "        \n",
    "        \n",
    "        #x = torch.relu(self.fc2(x))\n",
    "        logits = self.fc2(x)\n",
    "        \n",
    "        probs = F.softmax(logits, dim=-1)  # Convert logits to probabilities\n",
    "\n",
    "        return probs\n",
    "\n",
    "# Create the policy and the corresponding optimizer:\n",
    "policy_net = PolicyNet(obs_shape).to(device)\n",
    "optimizer = optim.Adam(policy_net.parameters(), lr)\n"
   ]
  },
  {
   "cell_type": "code",
   "execution_count": 109,
   "metadata": {},
   "outputs": [],
   "source": [
    "nb_batches = 50\n",
    "rows, cols = 50, 50\n",
    "populations = {\n",
    "    \"red\": {\"p\": 0.1, \"mean_v\": 1.0, \"std_v\": 0.2},\n",
    "    \"blue\": {\"p\": 0.1, \"mean_v\": 1.0, \"std_v\": 0.2},\n",
    "    \"green\": {\"p\": 0.1, \"mean_v\": 1.0, \"std_v\": 0.2},\n",
    "}\n",
    "\n",
    "gamma = 0.98\n",
    "\n",
    "clever_pop_id = 0  # Clever population ID\n",
    "\n",
    "simulation = SquareSimulation(nb_batch=nb_batches, rows=rows, cols=cols, populations=populations, device=device)\n",
    "simulation.reset()"
   ]
  },
  {
   "cell_type": "code",
   "execution_count": null,
   "metadata": {},
   "outputs": [],
   "source": [
    "from itertools import count\n",
    "from collections import deque\n",
    "\n",
    "def select_action(observations):\n",
    "    probs = policy_net(observations)\n",
    "    m = Categorical(probs)\n",
    "    \n",
    "    action = m.sample()  # Size: (batch_size,)\n",
    "    \n",
    "    unique, counts = torch.unique(action, return_counts=True)\n",
    "    for u, c in zip(unique.tolist(), counts.tolist()):\n",
    "        policy_net.action_counts[u] += c / 10000\n",
    "    \n",
    "    policy_net.saved_log_probs.append(m.log_prob(action))\n",
    "    return action\n",
    "\n",
    "def finish_episode():\n",
    "    R = 0\n",
    "    policy_loss = []\n",
    "    returns = deque()\n",
    "    for r in policy_net.rewards[::-1]:\n",
    "        R = r + gamma * R\n",
    "        returns.appendleft(R)\n",
    "        \n",
    "    returns = torch.tensor(returns)\n",
    "    returns = (returns - returns.mean()) / (returns.std() + simulation.EPS)\n",
    "    for log_prob, R in zip(policy_net.saved_log_probs, returns):\n",
    "        policy_loss.append(-log_prob * R)\n",
    "        \n",
    "    optimizer.zero_grad()\n",
    "    policy_loss = torch.cat(policy_loss).sum()\n",
    "    \n",
    "    policy_net.all_losses.append(policy_loss.item())\n",
    "    policy_net.all_rewards.append(R.item())\n",
    "    \n",
    "    policy_loss.backward()\n",
    "    optimizer.step()\n",
    "    \n",
    "    del policy_net.rewards[:]\n",
    "    del policy_net.saved_log_probs[:]"
   ]
  },
  {
   "cell_type": "code",
   "execution_count": 111,
   "metadata": {},
   "outputs": [
    {
     "data": {
      "application/vnd.jupyter.widget-view+json": {
       "model_id": "0d3b4c94c40d41219705045c1aaa8c22",
       "version_major": 2,
       "version_minor": 0
      },
      "text/plain": [
       "  0%|          | 0/10 [00:00<?, ?it/s]"
      ]
     },
     "metadata": {},
     "output_type": "display_data"
    },
    {
     "data": {
      "application/vnd.jupyter.widget-view+json": {
       "model_id": "ebe7d3dd76644f6bbeedc163ce9970bd",
       "version_major": 2,
       "version_minor": 0
      },
      "text/plain": [
       "  0%|          | 0/750 [00:00<?, ?it/s]"
      ]
     },
     "metadata": {},
     "output_type": "display_data"
    },
    {
     "name": "stdout",
     "output_type": "stream",
     "text": [
      "Episode 0 - Time 749 - Running reward: -0.25 - Avg reward: -5.02 - Loss: 0.20 - Action counts: [5.28470387 5.5949285  6.1041607  6.82778155 6.25300227 6.09374889\n",
      " 5.37746364 6.12356453 5.34906779 5.55162483 6.6451016  5.57741773\n",
      " 5.87841371 6.02062958 6.04997196 5.69052786 5.57789099]\n"
     ]
    },
    {
     "data": {
      "application/vnd.jupyter.widget-view+json": {
       "model_id": "fcf9f28ff5f14dea8fe81c4615e0c97a",
       "version_major": 2,
       "version_minor": 0
      },
      "text/plain": [
       "  0%|          | 0/750 [00:00<?, ?it/s]"
      ]
     },
     "metadata": {},
     "output_type": "display_data"
    },
    {
     "name": "stdout",
     "output_type": "stream",
     "text": [
      "Episode 1 - Time 749 - Running reward: -0.49 - Avg reward: -5.00 - Loss: -13.22 - Action counts: [4.96700711 5.62360939 6.07691081 6.49271777 7.03941859 7.12282695\n",
      " 4.58106103 7.71308422 4.41503012 5.00674676 7.74417994 4.85250304\n",
      " 8.13472864 5.17524736 6.04749898 4.41233591 4.59509339]\n"
     ]
    },
    {
     "data": {
      "application/vnd.jupyter.widget-view+json": {
       "model_id": "6b90c6c7a9f74f1caad28041cba0f503",
       "version_major": 2,
       "version_minor": 0
      },
      "text/plain": [
       "  0%|          | 0/750 [00:00<?, ?it/s]"
      ]
     },
     "metadata": {},
     "output_type": "display_data"
    },
    {
     "name": "stdout",
     "output_type": "stream",
     "text": [
      "Episode 2 - Time 749 - Running reward: -0.65 - Avg reward: -3.71 - Loss: 158.58 - Action counts: [ 0.64126915  0.65534798  2.05128093  0.7325292   2.44810083  3.73640981\n",
      "  1.69411915 81.97464268  0.60457141  0.6257033   0.7862184   0.46827136\n",
      "  0.95553277  0.93786602  0.7863139   0.35446743  0.54735567]\n"
     ]
    },
    {
     "data": {
      "application/vnd.jupyter.widget-view+json": {
       "model_id": "8fa71e8190ae4a51afd8ce77a9528828",
       "version_major": 2,
       "version_minor": 0
      },
      "text/plain": [
       "  0%|          | 0/750 [00:00<?, ?it/s]"
      ]
     },
     "metadata": {},
     "output_type": "display_data"
    },
    {
     "name": "stdout",
     "output_type": "stream",
     "text": [
      "Episode 3 - Time 749 - Running reward: 2.52 - Avg reward: 62.75 - Loss: 9.57 - Action counts: [1.34333889e-01 1.37213503e-01 4.29753375e-01 1.53337624e-01\n",
      " 5.12932369e-01 7.83794479e-01 3.75082125e-01 9.62035704e+01\n",
      " 1.26607331e-01 1.30993138e-01 1.64570543e-01 9.80153554e-02\n",
      " 2.00013914e-01 1.96381918e-01 1.64596241e-01 7.41932296e-02\n",
      " 1.14610608e-01]\n"
     ]
    },
    {
     "data": {
      "application/vnd.jupyter.widget-view+json": {
       "model_id": "351461671ff24248ab3ab786197eba15",
       "version_major": 2,
       "version_minor": 0
      },
      "text/plain": [
       "  0%|          | 0/750 [00:00<?, ?it/s]"
      ]
     },
     "metadata": {},
     "output_type": "display_data"
    },
    {
     "name": "stdout",
     "output_type": "stream",
     "text": [
      "Episode 4 - Time 749 - Running reward: 5.53 - Avg reward: 62.67 - Loss: -17.90 - Action counts: [7.49521357e-02 7.65429825e-02 2.39758454e-01 8.55235438e-02\n",
      " 2.86234590e-01 4.37603109e-01 2.10616019e-01 9.78804076e+01\n",
      " 7.06326441e-02 7.30666876e-02 9.17826264e-02 5.46644593e-02\n",
      " 1.11557537e-01 1.09551064e-01 9.18017356e-02 4.13795346e-02\n",
      " 6.39252899e-02]\n"
     ]
    },
    {
     "data": {
      "application/vnd.jupyter.widget-view+json": {
       "model_id": "0a093e42f6ee4ad88b03709bf4e59afd",
       "version_major": 2,
       "version_minor": 0
      },
      "text/plain": [
       "  0%|          | 0/750 [00:00<?, ?it/s]"
      ]
     },
     "metadata": {},
     "output_type": "display_data"
    },
    {
     "name": "stdout",
     "output_type": "stream",
     "text": [
      "Episode 5 - Time 749 - Running reward: 8.36 - Avg reward: 62.16 - Loss: -13.82 - Action counts: [5.20340103e-02 5.31297598e-02 1.66446171e-01 5.93555840e-02\n",
      " 1.98715248e-01 3.03900568e-01 1.46837063e-01 9.85279415e+01\n",
      " 4.90274682e-02 5.07122590e-02 6.36993494e-02 3.79379086e-02\n",
      " 7.74241229e-02 7.60421413e-02 6.37104008e-02 2.87176989e-02\n",
      " 4.43687370e-02]\n"
     ]
    },
    {
     "data": {
      "application/vnd.jupyter.widget-view+json": {
       "model_id": "10af733468d74434a4fcf06af48be9c5",
       "version_major": 2,
       "version_minor": 0
      },
      "text/plain": [
       "  0%|          | 0/750 [00:00<?, ?it/s]"
      ]
     },
     "metadata": {},
     "output_type": "display_data"
    },
    {
     "name": "stdout",
     "output_type": "stream",
     "text": [
      "Episode 6 - Time 749 - Running reward: 11.11 - Avg reward: 63.42 - Loss: -22.74 - Action counts: [3.98359031e-02 4.06691132e-02 1.27420668e-01 4.54340601e-02\n",
      " 1.52128097e-01 2.32679638e-01 1.12528200e-01 9.88729716e+01\n",
      " 3.75316753e-02 3.88195559e-02 4.87575957e-02 2.90384303e-02\n",
      " 5.92632335e-02 5.82138963e-02 4.87656318e-02 2.19810983e-02\n",
      " 3.39615602e-02]\n"
     ]
    },
    {
     "data": {
      "application/vnd.jupyter.widget-view+json": {
       "model_id": "839a55c128ff4eafa68da26c5d85dc3e",
       "version_major": 2,
       "version_minor": 0
      },
      "text/plain": [
       "  0%|          | 0/750 [00:00<?, ?it/s]"
      ]
     },
     "metadata": {},
     "output_type": "display_data"
    },
    {
     "name": "stdout",
     "output_type": "stream",
     "text": [
      "Episode 7 - Time 749 - Running reward: 13.70 - Avg reward: 62.83 - Loss: -5.31 - Action counts: [3.22686686e-02 3.29418103e-02 1.03216782e-01 3.67997861e-02\n",
      " 1.23230845e-01 1.88506754e-01 9.12167025e-02 9.90869968e+01\n",
      " 3.04010000e-02 3.14441128e-02 3.94913254e-02 2.35198812e-02\n",
      " 4.80003168e-02 4.71538368e-02 3.94985193e-02 1.78034860e-02\n",
      " 2.75094022e-02]\n"
     ]
    },
    {
     "data": {
      "application/vnd.jupyter.widget-view+json": {
       "model_id": "db0f4bbc935e4d5cba8f5f65c388c67a",
       "version_major": 2,
       "version_minor": 0
      },
      "text/plain": [
       "  0%|          | 0/750 [00:00<?, ?it/s]"
      ]
     },
     "metadata": {},
     "output_type": "display_data"
    },
    {
     "name": "stdout",
     "output_type": "stream",
     "text": [
      "Episode 8 - Time 749 - Running reward: 16.17 - Avg reward: 63.05 - Loss: 4.63 - Action counts: [2.71176054e-02 2.76835691e-02 8.67438649e-02 3.09253376e-02\n",
      " 1.03565595e-01 1.58434996e-01 7.66912446e-02 9.92326753e+01\n",
      " 2.55489706e-02 2.64244007e-02 3.31877529e-02 1.97649715e-02\n",
      " 4.03374345e-02 3.96269572e-02 3.31929347e-02 1.49611893e-02\n",
      " 2.31178601e-02]\n"
     ]
    },
    {
     "data": {
      "application/vnd.jupyter.widget-view+json": {
       "model_id": "6a5ffb566f8b45efaa74546ab2002867",
       "version_major": 2,
       "version_minor": 0
      },
      "text/plain": [
       "  0%|          | 0/750 [00:00<?, ?it/s]"
      ]
     },
     "metadata": {},
     "output_type": "display_data"
    },
    {
     "name": "stdout",
     "output_type": "stream",
     "text": [
      "Episode 9 - Time 749 - Running reward: 18.49 - Avg reward: 62.59 - Loss: -6.98 - Action counts: [2.33832815e-02 2.38702832e-02 7.47972111e-02 2.66649583e-02\n",
      " 8.93047494e-02 1.36635013e-01 6.61572741e-02 9.93383106e+01\n",
      " 2.20300024e-02 2.27843339e-02 2.86161920e-02 1.70420820e-02\n",
      " 3.47806609e-02 3.41695507e-02 2.86201635e-02 1.29000851e-02\n",
      " 1.99335617e-02]\n"
     ]
    }
   ],
   "source": [
    "learn_steps = 50\n",
    "running_reward = 0\n",
    "nb_epochs = 10\n",
    "\n",
    "for i_episode in tqdm(range(nb_epochs)):\n",
    "    simulation.reset()\n",
    "    ep_reward = 0\n",
    "    \n",
    "    for t in tqdm(range(750), leave=False):\n",
    "        observations, obs_indices = simulation.get_deep_observations(clever_pop_id)\n",
    "        \n",
    "        action = select_action(observations)\n",
    "        all_actions_grid = clever_single_action(simulation, action, obs_indices) \n",
    "        \n",
    "        rewards, done, info = simulation.step(all_actions_grid)\n",
    "        \n",
    "        clever_pop_rewards = rewards[clever_pop_id]\n",
    "        policy_net.rewards.append(clever_pop_rewards)\n",
    "        ep_reward += clever_pop_rewards\n",
    "        \n",
    "        if t % 5 == 0 and t > 0:\n",
    "            # Update the policy every 50 steps           \n",
    "            finish_episode()\n",
    "            \n",
    "    running_reward = 0.05 * ep_reward + (1 - 0.05) * running_reward\n",
    "    print(f\"Episode {i_episode} - Time {t} - Running reward: {running_reward:.2f} - Avg reward: {ep_reward:.2f} - Loss: {policy_net.all_losses[-1]:.2f} - Action counts: {100 *np.array(policy_net.action_counts) / np.sum(policy_net.action_counts)}\")\n",
    "            "
   ]
  },
  {
   "cell_type": "code",
   "execution_count": 115,
   "metadata": {},
   "outputs": [
    {
     "data": {
      "image/png": "[encoded data removed]",
      "text/plain": [
       "<Figure size 640x480 with 1 Axes>"
      ]
     },
     "metadata": {},
     "output_type": "display_data"
    },
    {
     "data": {
      "text/plain": [
       "<matplotlib.legend.Legend at 0x238b5740090>"
      ]
     },
     "execution_count": 115,
     "metadata": {},
     "output_type": "execute_result"
    },
    {
     "data": {
      "image/png": "[encoded data removed]",
      "text/plain": [
       "<Figure size 640x480 with 1 Axes>"
      ]
     },
     "metadata": {},
     "output_type": "display_data"
    }
   ],
   "source": [
    "# Plot the rewards\n",
    "plt.plot(policy_net.all_rewards, label=\"Clever Population\")\n",
    "plt.xlabel(\"Time Steps\")\n",
    "plt.ylabel(\"Rewards\")\n",
    "plt.title(\"Rewards over Time\")\n",
    "plt.legend()\n",
    "plt.show()\n",
    "\n",
    "plt.plot(policy_net.all_losses, label=\"Clever Population\")\n",
    "plt.xlabel(\"Time Steps\")\n",
    "plt.ylabel(\"Loss\")\n",
    "plt.title(\"Loss over Time\")\n",
    "plt.ylim(-100, 100)\n",
    "plt.legend()"
   ]
  },
  {
   "cell_type": "code",
   "execution_count": 116,
   "metadata": {},
   "outputs": [],
   "source": [
    "# Store model\n",
    "torch.save(policy_net.state_dict(), \"policy_net.pth\")"
   ]
  },
  {
   "cell_type": "markdown",
   "metadata": {},
   "source": [
    "# Stable REINFORCE"
   ]
  },
  {
   "cell_type": "code",
   "execution_count": 17,
   "metadata": {},
   "outputs": [
    {
     "name": "stdout",
     "output_type": "stream",
     "text": [
      "Using device: cuda:0\n"
     ]
    }
   ],
   "source": [
    "nb_batches = 250\n",
    "rows, cols = 20, 20\n",
    "populations = {\n",
    "    \"red\": {\"p\": 0.1, \"mean_v\": 1.0, \"std_v\": 0.2},\n",
    "    \"blue\": {\"p\": 0.1, \"mean_v\": 1.0, \"std_v\": 0.2},\n",
    "    \"green\": {\"p\": 0.1, \"mean_v\": 1.0, \"std_v\": 0.2},\n",
    "}\n",
    "\n",
    "obs_shape = (3, 6, 6)\n",
    "\n",
    "device = torch.device(0) if torch.cuda.is_available() else torch.device(\"cpu\")\n",
    "print(f\"Using device: {device}\")\n",
    "\n",
    "clever_pop_id = 0  # Clever population ID\n",
    "\n",
    "simulation = SquareSimulation(nb_batch=nb_batches, rows=rows, cols=cols, populations=populations, device=device)\n",
    "simulation.reset()"
   ]
  },
  {
   "cell_type": "code",
   "execution_count": 18,
   "metadata": {},
   "outputs": [
    {
     "data": {
      "application/vnd.jupyter.widget-view+json": {
       "model_id": "b2fa4536e2364ee0aa4042bd4a65333d",
       "version_major": 2,
       "version_minor": 0
      },
      "text/plain": [
       "  0%|          | 0/50 [00:00<?, ?it/s]"
      ]
     },
     "metadata": {},
     "output_type": "display_data"
    },
    {
     "data": {
      "application/vnd.jupyter.widget-view+json": {
       "model_id": "0d1f5f03aca542ceaa09a8ae5debf962",
       "version_major": 2,
       "version_minor": 0
      },
      "text/plain": [
       "  0%|          | 0/500 [00:00<?, ?it/s]"
      ]
     },
     "metadata": {},
     "output_type": "display_data"
    },
    {
     "name": "stdout",
     "output_type": "stream",
     "text": [
      "Episode 0 | reward -24.90 | action counts [6.69538108 5.4292367  5.32073565 5.24959723 5.95350895 6.71660305\n",
      " 6.5402515  5.56105201 4.96564134 5.54222125 6.73483601 6.26825164\n",
      " 4.85474909 6.18993959 6.65682286 5.6525157  5.66865635]\n"
     ]
    },
    {
     "data": {
      "application/vnd.jupyter.widget-view+json": {
       "model_id": "86ae7bdac7e24f589f60c81296dd9bec",
       "version_major": 2,
       "version_minor": 0
      },
      "text/plain": [
       "  0%|          | 0/500 [00:00<?, ?it/s]"
      ]
     },
     "metadata": {},
     "output_type": "display_data"
    },
    {
     "name": "stdout",
     "output_type": "stream",
     "text": [
      "Episode 1 | reward -25.40 | action counts [6.67153224 5.45755637 5.31799111 5.2272239  5.95606469 6.70382716\n",
      " 6.51532159 5.56283495 4.98778626 5.58972367 6.72602102 6.27446127\n",
      " 4.84637152 6.19422191 6.65943943 5.65673207 5.65289082]\n"
     ]
    },
    {
     "data": {
      "application/vnd.jupyter.widget-view+json": {
       "model_id": "c3f727b65dd741308488a9d431549589",
       "version_major": 2,
       "version_minor": 0
      },
      "text/plain": [
       "  0%|          | 0/500 [00:00<?, ?it/s]"
      ]
     },
     "metadata": {},
     "output_type": "display_data"
    },
    {
     "name": "stdout",
     "output_type": "stream",
     "text": [
      "Episode 2 | reward -24.77 | action counts [6.66168851 5.44605607 5.33077404 5.21719989 5.96857307 6.69375874\n",
      " 6.5221166  5.56959287 5.005043   5.61940609 6.69964144 6.30417188\n",
      " 4.85085921 6.18898473 6.62506393 5.66143897 5.63563097]\n"
     ]
    },
    {
     "data": {
      "application/vnd.jupyter.widget-view+json": {
       "model_id": "2ddb9d12e0bb41e5bd47470b81b5c958",
       "version_major": 2,
       "version_minor": 0
      },
      "text/plain": [
       "  0%|          | 0/500 [00:00<?, ?it/s]"
      ]
     },
     "metadata": {},
     "output_type": "display_data"
    },
    {
     "name": "stdout",
     "output_type": "stream",
     "text": [
      "Episode 3 | reward -25.04 | action counts [6.6737902  5.43018756 5.32606331 5.20420202 5.95985687 6.70122156\n",
      " 6.53239665 5.55456219 5.00966919 5.6130872  6.69849278 6.3056212\n",
      " 4.8446502  6.20444115 6.64398912 5.66443123 5.63333757]\n"
     ]
    },
    {
     "data": {
      "application/vnd.jupyter.widget-view+json": {
       "model_id": "1d7708c664d54c0d83712a433a2f0a6e",
       "version_major": 2,
       "version_minor": 0
      },
      "text/plain": [
       "  0%|          | 0/500 [00:00<?, ?it/s]"
      ]
     },
     "metadata": {},
     "output_type": "display_data"
    },
    {
     "name": "stdout",
     "output_type": "stream",
     "text": [
      "Episode 4 | reward -24.91 | action counts [6.67331712 5.42541419 5.33530753 5.20066147 5.97153589 6.69061897\n",
      " 6.54381022 5.53830446 5.01119766 5.60756896 6.69610075 6.29655939\n",
      " 4.85559523 6.20034284 6.64465202 5.67026675 5.63874655]\n"
     ]
    },
    {
     "data": {
      "application/vnd.jupyter.widget-view+json": {
       "model_id": "ab759c3a900447ea9a438a47b934e3d6",
       "version_major": 2,
       "version_minor": 0
      },
      "text/plain": [
       "  0%|          | 0/500 [00:00<?, ?it/s]"
      ]
     },
     "metadata": {},
     "output_type": "display_data"
    },
    {
     "name": "stdout",
     "output_type": "stream",
     "text": [
      "Episode 5 | reward -24.83 | action counts [6.68412936 5.41680471 5.3402485  5.21626176 5.96523509 6.68126923\n",
      " 6.52901485 5.53707327 5.02010435 5.60161693 6.69223307 6.30563851\n",
      " 4.85702913 6.20110067 6.63665117 5.66434916 5.65124022]\n"
     ]
    },
    {
     "data": {
      "application/vnd.jupyter.widget-view+json": {
       "model_id": "ec5b556bf2b2462db465c1eec7c9e438",
       "version_major": 2,
       "version_minor": 0
      },
      "text/plain": [
       "  0%|          | 0/500 [00:00<?, ?it/s]"
      ]
     },
     "metadata": {},
     "output_type": "display_data"
    },
    {
     "name": "stdout",
     "output_type": "stream",
     "text": [
      "Episode 6 | reward -24.89 | action counts [6.69004273 5.41673811 5.34621421 5.2099477  5.96427724 6.68072748\n",
      " 6.52335738 5.53132399 5.00859806 5.60691769 6.69230972 6.30453134\n",
      " 4.85914181 6.20758674 6.63967441 5.66136659 5.65724479]\n"
     ]
    },
    {
     "data": {
      "application/vnd.jupyter.widget-view+json": {
       "model_id": "a738144736dd46daa6dd9e0fe9e977ce",
       "version_major": 2,
       "version_minor": 0
      },
      "text/plain": [
       "  0%|          | 0/500 [00:00<?, ?it/s]"
      ]
     },
     "metadata": {},
     "output_type": "display_data"
    },
    {
     "name": "stdout",
     "output_type": "stream",
     "text": [
      "Episode 7 | reward -24.83 | action counts [6.68883845 5.42118272 5.3499369  5.19960929 5.96327211 6.67598315\n",
      " 6.51460576 5.52171409 5.01212407 5.61773165 6.69273838 6.30455154\n",
      " 4.86132702 6.21293944 6.64503653 5.66276133 5.65564758]\n"
     ]
    },
    {
     "data": {
      "application/vnd.jupyter.widget-view+json": {
       "model_id": "6e60fcb0b7b343cc8f0ee43015635a16",
       "version_major": 2,
       "version_minor": 0
      },
      "text/plain": [
       "  0%|          | 0/500 [00:00<?, ?it/s]"
      ]
     },
     "metadata": {},
     "output_type": "display_data"
    },
    {
     "name": "stdout",
     "output_type": "stream",
     "text": [
      "Episode 8 | reward -24.81 | action counts [6.69099472 5.42075339 5.35302688 5.20264833 5.96214826 6.67600501\n",
      " 6.51092564 5.51788157 5.01083143 5.61584428 6.69542422 6.30784238\n",
      " 4.86054918 6.21302525 6.65074398 5.66126278 5.65009271]\n"
     ]
    },
    {
     "data": {
      "application/vnd.jupyter.widget-view+json": {
       "model_id": "1e286b4953814f2cba989c371e4b03ce",
       "version_major": 2,
       "version_minor": 0
      },
      "text/plain": [
       "  0%|          | 0/500 [00:00<?, ?it/s]"
      ]
     },
     "metadata": {},
     "output_type": "display_data"
    },
    {
     "name": "stdout",
     "output_type": "stream",
     "text": [
      "Episode 9 | reward -24.50 | action counts [6.69312692 5.42127602 5.35373208 5.20672639 5.96695004 6.67571302\n",
      " 6.51421503 5.51586646 5.01092129 5.61525874 6.69859407 6.30510363\n",
      " 4.85905591 6.21164134 6.64803013 5.65572725 5.64806166]\n"
     ]
    },
    {
     "data": {
      "application/vnd.jupyter.widget-view+json": {
       "model_id": "5cae240d3fff4c2a86b0385710b1ba2a",
       "version_major": 2,
       "version_minor": 0
      },
      "text/plain": [
       "  0%|          | 0/500 [00:00<?, ?it/s]"
      ]
     },
     "metadata": {},
     "output_type": "display_data"
    },
    {
     "name": "stdout",
     "output_type": "stream",
     "text": [
      "Episode 10 | reward -24.99 | action counts [6.69562085 5.42449982 5.35125679 5.21149123 5.9688872  6.67419924\n",
      " 6.50833921 5.5148854  5.01181864 5.61275279 6.69842982 6.30772155\n",
      " 4.85792952 6.21652216 6.6478685  5.65168448 5.64609281]\n"
     ]
    },
    {
     "data": {
      "application/vnd.jupyter.widget-view+json": {
       "model_id": "07c9170f085741d3919bcdf82da86f1e",
       "version_major": 2,
       "version_minor": 0
      },
      "text/plain": [
       "  0%|          | 0/500 [00:00<?, ?it/s]"
      ]
     },
     "metadata": {},
     "output_type": "display_data"
    },
    {
     "name": "stdout",
     "output_type": "stream",
     "text": [
      "Episode 11 | reward -24.74 | action counts [6.70347754 5.42364054 5.35374006 5.20969541 5.96473631 6.67039598\n",
      " 6.51077502 5.51208309 5.01084434 5.60886837 6.7021755  6.30536551\n",
      " 4.8551054  6.21788743 6.6498285  5.65407823 5.64730278]\n"
     ]
    },
    {
     "data": {
      "application/vnd.jupyter.widget-view+json": {
       "model_id": "19ed396907584bcca5c73340839bd416",
       "version_major": 2,
       "version_minor": 0
      },
      "text/plain": [
       "  0%|          | 0/500 [00:00<?, ?it/s]"
      ]
     },
     "metadata": {},
     "output_type": "display_data"
    },
    {
     "name": "stdout",
     "output_type": "stream",
     "text": [
      "Episode 12 | reward -25.35 | action counts [6.70614199 5.42285678 5.35545357 5.2135977  5.96188238 6.66833748\n",
      " 6.51449536 5.51171962 5.01303366 5.60998911 6.6997597  6.30423557\n",
      " 4.85423248 6.21993152 6.65412743 5.64968384 5.64052181]\n"
     ]
    },
    {
     "data": {
      "application/vnd.jupyter.widget-view+json": {
       "model_id": "3f6ace2db99f489a82bd03073f5ac9e3",
       "version_major": 2,
       "version_minor": 0
      },
      "text/plain": [
       "  0%|          | 0/500 [00:00<?, ?it/s]"
      ]
     },
     "metadata": {},
     "output_type": "display_data"
    },
    {
     "name": "stdout",
     "output_type": "stream",
     "text": [
      "Episode 13 | reward -24.80 | action counts [6.70415966 5.41994336 5.35591648 5.21424307 5.95677297 6.67078219\n",
      " 6.51654314 5.51203625 5.00829477 5.60966793 6.70194827 6.30292732\n",
      " 4.85180299 6.22424742 6.65013569 5.66065383 5.63992466]\n"
     ]
    },
    {
     "data": {
      "application/vnd.jupyter.widget-view+json": {
       "model_id": "d76aa2070cbc44e1b99ba4b090336dd7",
       "version_major": 2,
       "version_minor": 0
      },
      "text/plain": [
       "  0%|          | 0/500 [00:00<?, ?it/s]"
      ]
     },
     "metadata": {},
     "output_type": "display_data"
    },
    {
     "name": "stdout",
     "output_type": "stream",
     "text": [
      "Episode 14 | reward -25.37 | action counts [6.70429257 5.41200556 5.35270672 5.21442624 5.95852163 6.67006911\n",
      " 6.51482134 5.51015004 5.00856549 5.61191523 6.70610293 6.30682283\n",
      " 4.84865701 6.22859228 6.6518885  5.66123784 5.63922467]\n"
     ]
    },
    {
     "data": {
      "application/vnd.jupyter.widget-view+json": {
       "model_id": "a80655b7a6d4497eb8bf9d4711c0628b",
       "version_major": 2,
       "version_minor": 0
      },
      "text/plain": [
       "  0%|          | 0/500 [00:00<?, ?it/s]"
      ]
     },
     "metadata": {},
     "output_type": "display_data"
    },
    {
     "name": "stdout",
     "output_type": "stream",
     "text": [
      "Episode 15 | reward -25.31 | action counts [6.70428385 5.41343535 5.35369975 5.21609129 5.95683083 6.67044571\n",
      " 6.51663104 5.50958982 5.00535635 5.61159152 6.70428385 6.31125606\n",
      " 4.8463261  6.22760817 6.6512076  5.65970485 5.64165784]\n"
     ]
    },
    {
     "data": {
      "application/vnd.jupyter.widget-view+json": {
       "model_id": "99e0a2c347944472bd6b1c887b9d9678",
       "version_major": 2,
       "version_minor": 0
      },
      "text/plain": [
       "  0%|          | 0/500 [00:00<?, ?it/s]"
      ]
     },
     "metadata": {},
     "output_type": "display_data"
    },
    {
     "name": "stdout",
     "output_type": "stream",
     "text": [
      "Episode 16 | reward -25.12 | action counts [6.70575827 5.41286491 5.35406464 5.21788756 5.95881165 6.67724031\n",
      " 6.51724454 5.50915756 5.00735343 5.61176114 6.69676688 6.308356\n",
      " 4.84267535 6.22826481 6.64962149 5.65968692 5.64248453]\n"
     ]
    },
    {
     "data": {
      "application/vnd.jupyter.widget-view+json": {
       "model_id": "edaf9fa0a3c94c5b879ef17b1dde3909",
       "version_major": 2,
       "version_minor": 0
      },
      "text/plain": [
       "  0%|          | 0/500 [00:00<?, ?it/s]"
      ]
     },
     "metadata": {},
     "output_type": "display_data"
    },
    {
     "name": "stdout",
     "output_type": "stream",
     "text": [
      "Episode 17 | reward -24.58 | action counts [6.70694299 5.41466011 5.35067824 5.21377598 5.96011877 6.67523289\n",
      " 6.52204229 5.50834613 5.0075159  5.60671805 6.6940086  6.31058278\n",
      " 4.84633359 6.22808196 6.65276622 5.66216258 5.64003291]\n"
     ]
    },
    {
     "data": {
      "application/vnd.jupyter.widget-view+json": {
       "model_id": "4a66fd5366e5458ba4727d87e3480503",
       "version_major": 2,
       "version_minor": 0
      },
      "text/plain": [
       "  0%|          | 0/500 [00:00<?, ?it/s]"
      ]
     },
     "metadata": {},
     "output_type": "display_data"
    },
    {
     "name": "stdout",
     "output_type": "stream",
     "text": [
      "Episode 18 | reward -24.56 | action counts [6.70283966 5.41465192 5.35103546 5.21519667 5.96133688 6.67842091\n",
      " 6.52423006 5.50706608 5.00293907 5.60697616 6.69076713 6.31283912\n",
      " 4.84528154 6.23204135 6.6518583  5.66659379 5.63592591]\n"
     ]
    },
    {
     "data": {
      "application/vnd.jupyter.widget-view+json": {
       "model_id": "1ca6f9f406a54caa8dafbaea8c7942dd",
       "version_major": 2,
       "version_minor": 0
      },
      "text/plain": [
       "  0%|          | 0/500 [00:00<?, ?it/s]"
      ]
     },
     "metadata": {},
     "output_type": "display_data"
    },
    {
     "name": "stdout",
     "output_type": "stream",
     "text": [
      "Episode 19 | reward -24.94 | action counts [6.70422699 5.41167343 5.3521508  5.21705739 5.96183496 6.68081986\n",
      " 6.52158198 5.50748508 5.00259083 5.60692562 6.69462703 6.31052745\n",
      " 4.84842763 6.22921696 6.64801518 5.66686753 5.63597128]\n"
     ]
    },
    {
     "data": {
      "application/vnd.jupyter.widget-view+json": {
       "model_id": "28145df059a84e1899ab3d44e4b7478f",
       "version_major": 2,
       "version_minor": 0
      },
      "text/plain": [
       "  0%|          | 0/500 [00:00<?, ?it/s]"
      ]
     },
     "metadata": {},
     "output_type": "display_data"
    },
    {
     "name": "stdout",
     "output_type": "stream",
     "text": [
      "Episode 20 | reward -25.32 | action counts [6.70582331 5.41081149 5.35113727 5.21679108 5.96026052 6.68223182\n",
      " 6.52313729 5.50374517 5.00322816 5.60996886 6.6925333  6.31062105\n",
      " 4.84863709 6.22827806 6.64833884 5.66675095 5.63770573]\n"
     ]
    },
    {
     "data": {
      "application/vnd.jupyter.widget-view+json": {
       "model_id": "c6793a2eb1bc4cd6b0f2b3233cdc3550",
       "version_major": 2,
       "version_minor": 0
      },
      "text/plain": [
       "  0%|          | 0/500 [00:00<?, ?it/s]"
      ]
     },
     "metadata": {},
     "output_type": "display_data"
    },
    {
     "name": "stdout",
     "output_type": "stream",
     "text": [
      "Episode 21 | reward -25.39 | action counts [6.70261059 5.40998338 5.34940624 5.21796552 5.95841839 6.6820246\n",
      " 6.52459226 5.5006326  5.00407587 5.61401957 6.69303266 6.31302492\n",
      " 4.85043534 6.23033982 6.64851495 5.66525495 5.63566832]\n"
     ]
    },
    {
     "data": {
      "application/vnd.jupyter.widget-view+json": {
       "model_id": "1f9a313acdfd42e0930979e8baae931a",
       "version_major": 2,
       "version_minor": 0
      },
      "text/plain": [
       "  0%|          | 0/500 [00:00<?, ?it/s]"
      ]
     },
     "metadata": {},
     "output_type": "display_data"
    },
    {
     "name": "stdout",
     "output_type": "stream",
     "text": [
      "Episode 22 | reward -24.98 | action counts [6.69943999 5.41225315 5.35171922 5.21852951 5.95894083 6.68295127\n",
      " 6.52484025 5.50036867 5.00400046 5.6155262  6.69091956 6.31176682\n",
      " 4.85011828 6.22785505 6.64620928 5.66706286 5.63749861]\n"
     ]
    },
    {
     "data": {
      "application/vnd.jupyter.widget-view+json": {
       "model_id": "c85025c33e114a0cbc023db8071bcaff",
       "version_major": 2,
       "version_minor": 0
      },
      "text/plain": [
       "  0%|          | 0/500 [00:00<?, ?it/s]"
      ]
     },
     "metadata": {},
     "output_type": "display_data"
    },
    {
     "name": "stdout",
     "output_type": "stream",
     "text": [
      "Episode 23 | reward -24.99 | action counts [6.70216115 5.41011803 5.34994417 5.21770833 5.96111874 6.68167848\n",
      " 6.52905613 5.49999417 5.00386634 5.61736084 6.69089808 6.31256967\n",
      " 4.84922457 6.22679247 6.64605017 5.66639184 5.63506682]\n"
     ]
    },
    {
     "data": {
      "application/vnd.jupyter.widget-view+json": {
       "model_id": "9c96aa22e76946a5bfb194f400788e21",
       "version_major": 2,
       "version_minor": 0
      },
      "text/plain": [
       "  0%|          | 0/500 [00:00<?, ?it/s]"
      ]
     },
     "metadata": {},
     "output_type": "display_data"
    },
    {
     "name": "stdout",
     "output_type": "stream",
     "text": [
      "Episode 24 | reward -24.88 | action counts [6.70570335 5.40946613 5.34769334 5.21880978 5.96083273 6.68542371\n",
      " 6.5277751  5.49864355 5.00126762 5.61574438 6.68847891 6.3130691\n",
      " 4.84976402 6.22652031 6.64684741 5.6691586  5.63480195]\n"
     ]
    },
    {
     "data": {
      "application/vnd.jupyter.widget-view+json": {
       "model_id": "7dfc83ea7fac4ed5aa4a2f8791fff881",
       "version_major": 2,
       "version_minor": 0
      },
      "text/plain": [
       "  0%|          | 0/500 [00:00<?, ?it/s]"
      ]
     },
     "metadata": {},
     "output_type": "display_data"
    },
    {
     "name": "stdout",
     "output_type": "stream",
     "text": [
      "Episode 25 | reward -24.75 | action counts [6.70389694 5.41057257 5.34648968 5.21811339 5.96147049 6.68652453\n",
      " 6.52842238 5.49813258 5.00069246 5.61600565 6.68690123 6.31440281\n",
      " 4.84651239 6.22659905 6.64694914 5.66979584 5.63851887]\n"
     ]
    },
    {
     "data": {
      "application/vnd.jupyter.widget-view+json": {
       "model_id": "23e43d66296e47968e7f888ff207c696",
       "version_major": 2,
       "version_minor": 0
      },
      "text/plain": [
       "  0%|          | 0/500 [00:00<?, ?it/s]"
      ]
     },
     "metadata": {},
     "output_type": "display_data"
    },
    {
     "name": "stdout",
     "output_type": "stream",
     "text": [
      "Episode 26 | reward -24.56 | action counts [6.70471745 5.41205404 5.34477852 5.21665554 5.96305023 6.68904835\n",
      " 6.52998291 5.49802553 4.9978336  5.61499297 6.68608566 6.31302201\n",
      " 4.84508928 6.2285479  6.64614817 5.67032147 5.6396464 ]\n"
     ]
    },
    {
     "data": {
      "application/vnd.jupyter.widget-view+json": {
       "model_id": "5f83ee32c428463ca20f454831e162a6",
       "version_major": 2,
       "version_minor": 0
      },
      "text/plain": [
       "  0%|          | 0/500 [00:00<?, ?it/s]"
      ]
     },
     "metadata": {},
     "output_type": "display_data"
    },
    {
     "name": "stdout",
     "output_type": "stream",
     "text": [
      "Episode 27 | reward -24.64 | action counts [6.70525079 5.41268675 5.3433501  5.21583382 5.96378827 6.68798371\n",
      " 6.53163049 5.49847512 4.99955671 5.61218187 6.68719932 6.31294858\n",
      " 4.84440072 6.22993657 6.64528563 5.67125942 5.63823214]\n"
     ]
    },
    {
     "data": {
      "application/vnd.jupyter.widget-view+json": {
       "model_id": "5a21a77240904fb1b0d515008dcb99aa",
       "version_major": 2,
       "version_minor": 0
      },
      "text/plain": [
       "  0%|          | 0/500 [00:00<?, ?it/s]"
      ]
     },
     "metadata": {},
     "output_type": "display_data"
    },
    {
     "name": "stdout",
     "output_type": "stream",
     "text": [
      "Episode 28 | reward -25.12 | action counts [6.70583939 5.4136077  5.34458134 5.21487793 5.96537025 6.68678939\n",
      " 6.53328345 5.49855556 4.99886168 5.61370245 6.68437825 6.31181723\n",
      " 4.84496717 6.23047612 6.64384718 5.67032439 5.63872052]\n"
     ]
    },
    {
     "data": {
      "application/vnd.jupyter.widget-view+json": {
       "model_id": "340de535e1994283869fe59d8f3cce32",
       "version_major": 2,
       "version_minor": 0
      },
      "text/plain": [
       "  0%|          | 0/500 [00:00<?, ?it/s]"
      ]
     },
     "metadata": {},
     "output_type": "display_data"
    },
    {
     "name": "stdout",
     "output_type": "stream",
     "text": [
      "Episode 29 | reward -25.07 | action counts [6.70765584 5.41148223 5.34621658 5.21636905 5.96699621 6.68743187\n",
      " 6.53405712 5.49914833 5.0001459  5.61195957 6.68387823 6.31124673\n",
      " 4.84411314 6.22828993 6.64449927 5.66895265 5.63755734]\n"
     ]
    },
    {
     "data": {
      "application/vnd.jupyter.widget-view+json": {
       "model_id": "72d9f86bf101428cbbb78b3835d0644f",
       "version_major": 2,
       "version_minor": 0
      },
      "text/plain": [
       "  0%|          | 0/500 [00:00<?, ?it/s]"
      ]
     },
     "metadata": {},
     "output_type": "display_data"
    },
    {
     "name": "stdout",
     "output_type": "stream",
     "text": [
      "Episode 30 | reward -25.26 | action counts [6.70842763 5.40997475 5.3456238  5.21615716 5.96544466 6.68810579\n",
      " 6.53510908 5.49900289 4.99938773 5.6101808  6.68504679 6.30962896\n",
      " 4.8455983  6.22892915 6.64619374 5.66749045 5.6396983 ]\n"
     ]
    },
    {
     "data": {
      "application/vnd.jupyter.widget-view+json": {
       "model_id": "78200d108a504594bb8903be7ffee2c7",
       "version_major": 2,
       "version_minor": 0
      },
      "text/plain": [
       "  0%|          | 0/500 [00:00<?, ?it/s]"
      ]
     },
     "metadata": {},
     "output_type": "display_data"
    },
    {
     "name": "stdout",
     "output_type": "stream",
     "text": [
      "Episode 31 | reward -25.22 | action counts [6.7075474  5.41081848 5.34610518 5.21647108 5.96676824 6.6872574\n",
      " 6.53528535 5.50019735 4.99781898 5.61136385 6.68516434 6.30864896\n",
      " 4.84618976 6.22797612 6.64744424 5.66761471 5.63732856]\n"
     ]
    },
    {
     "data": {
      "application/vnd.jupyter.widget-view+json": {
       "model_id": "cddaf74b5611429590769cb7c5822f40",
       "version_major": 2,
       "version_minor": 0
      },
      "text/plain": [
       "  0%|          | 0/500 [00:00<?, ?it/s]"
      ]
     },
     "metadata": {},
     "output_type": "display_data"
    },
    {
     "name": "stdout",
     "output_type": "stream",
     "text": [
      "Episode 32 | reward -25.34 | action counts [6.70764337 5.4081585  5.34659898 5.21743595 5.9678533  6.68765708\n",
      " 6.53565633 5.49936945 4.99888129 5.61077661 6.68568907 6.31132882\n",
      " 4.84439647 6.22821735 6.64678359 5.66755166 5.63600219]\n"
     ]
    },
    {
     "data": {
      "application/vnd.jupyter.widget-view+json": {
       "model_id": "51ad829522a9404087d76319f2ad0fe9",
       "version_major": 2,
       "version_minor": 0
      },
      "text/plain": [
       "  0%|          | 0/500 [00:00<?, ?it/s]"
      ]
     },
     "metadata": {},
     "output_type": "display_data"
    },
    {
     "name": "stdout",
     "output_type": "stream",
     "text": [
      "Episode 33 | reward -24.84 | action counts [6.70795424 5.40726911 5.34519433 5.21659813 5.96606092 6.68972641\n",
      " 6.53647001 5.50005456 4.99716824 5.61115272 6.68469423 6.31040411\n",
      " 4.84627094 6.22966022 6.64895987 5.66702426 5.6353377 ]\n"
     ]
    },
    {
     "data": {
      "application/vnd.jupyter.widget-view+json": {
       "model_id": "b4a6bc94a44743faa807409d165bd081",
       "version_major": 2,
       "version_minor": 0
      },
      "text/plain": [
       "  0%|          | 0/500 [00:00<?, ?it/s]"
      ]
     },
     "metadata": {},
     "output_type": "display_data"
    },
    {
     "name": "stdout",
     "output_type": "stream",
     "text": [
      "Episode 34 | reward -24.20 | action counts [6.70811186 5.40785707 5.34556625 5.21760749 5.96540283 6.69123455\n",
      " 6.53706807 5.49887399 4.99745932 5.61036003 6.68548768 6.30877024\n",
      " 4.84590206 6.22954431 6.64757153 5.66872877 5.63445396]\n"
     ]
    },
    {
     "data": {
      "application/vnd.jupyter.widget-view+json": {
       "model_id": "12342e98f59c44e0976f4c4681a9fc25",
       "version_major": 2,
       "version_minor": 0
      },
      "text/plain": [
       "  0%|          | 0/500 [00:00<?, ?it/s]"
      ]
     },
     "metadata": {},
     "output_type": "display_data"
    },
    {
     "name": "stdout",
     "output_type": "stream",
     "text": [
      "Episode 35 | reward -24.86 | action counts [6.70856063 5.40729211 5.34597428 5.2167743  5.96516319 6.68992694\n",
      " 6.53743084 5.49967411 4.99673309 5.61060955 6.68642009 6.30770364\n",
      " 4.84629937 6.22905215 6.64896012 5.66975265 5.63367295]\n"
     ]
    },
    {
     "data": {
      "application/vnd.jupyter.widget-view+json": {
       "model_id": "7158a8cedce14b9aac6e4bbd76c39504",
       "version_major": 2,
       "version_minor": 0
      },
      "text/plain": [
       "  0%|          | 0/500 [00:00<?, ?it/s]"
      ]
     },
     "metadata": {},
     "output_type": "display_data"
    },
    {
     "name": "stdout",
     "output_type": "stream",
     "text": [
      "Episode 36 | reward -25.26 | action counts [6.70986299 5.40677364 5.34588825 5.21626181 5.96543238 6.69009105\n",
      " 6.53749105 5.49963615 4.99614674 5.61060732 6.68606951 6.30913767\n",
      " 4.84603775 6.22652034 6.64954765 5.67040727 5.63408844]\n"
     ]
    },
    {
     "data": {
      "application/vnd.jupyter.widget-view+json": {
       "model_id": "52677125bd684a8a96cac21d3486043e",
       "version_major": 2,
       "version_minor": 0
      },
      "text/plain": [
       "  0%|          | 0/500 [00:00<?, ?it/s]"
      ]
     },
     "metadata": {},
     "output_type": "display_data"
    },
    {
     "name": "stdout",
     "output_type": "stream",
     "text": [
      "Episode 37 | reward -25.09 | action counts [6.70958446 5.40649421 5.34533218 5.21784794 5.96408098 6.68689189\n",
      " 6.53755864 5.49762929 4.99628757 5.61270328 6.68680069 6.30945496\n",
      " 4.84597397 6.22761426 6.6511735  5.67049867 5.63407351]\n"
     ]
    },
    {
     "data": {
      "application/vnd.jupyter.widget-view+json": {
       "model_id": "d9273685dab4417a978b801ae7e75932",
       "version_major": 2,
       "version_minor": 0
      },
      "text/plain": [
       "  0%|          | 0/500 [00:00<?, ?it/s]"
      ]
     },
     "metadata": {},
     "output_type": "display_data"
    },
    {
     "name": "stdout",
     "output_type": "stream",
     "text": [
      "Episode 38 | reward -24.86 | action counts [6.7099867  5.40606568 5.34441562 5.21925563 5.96420621 6.68696426\n",
      " 6.53678856 5.49739225 4.99467009 5.6121488  6.68664563 6.30900937\n",
      " 4.84587262 6.22913105 6.65133764 5.67144252 5.63466737]\n"
     ]
    },
    {
     "data": {
      "application/vnd.jupyter.widget-view+json": {
       "model_id": "53a624601d9040e199052e4d89aa38b4",
       "version_major": 2,
       "version_minor": 0
      },
      "text/plain": [
       "  0%|          | 0/500 [00:00<?, ?it/s]"
      ]
     },
     "metadata": {},
     "output_type": "display_data"
    },
    {
     "name": "stdout",
     "output_type": "stream",
     "text": [
      "Episode 39 | reward -25.14 | action counts [6.71029686 5.40470941 5.34429882 5.22015201 5.96429543 6.68688739\n",
      " 6.53650434 5.49683629 4.99534016 5.61308113 6.68685125 6.30940071\n",
      " 4.84607047 6.22843634 6.65132496 5.6712144  5.63430003]\n"
     ]
    },
    {
     "data": {
      "application/vnd.jupyter.widget-view+json": {
       "model_id": "cac581faa8194d1cb994fbd47c526f73",
       "version_major": 2,
       "version_minor": 0
      },
      "text/plain": [
       "  0%|          | 0/500 [00:00<?, ?it/s]"
      ]
     },
     "metadata": {},
     "output_type": "display_data"
    },
    {
     "ename": "KeyboardInterrupt",
     "evalue": "",
     "output_type": "error",
     "traceback": [
      "\u001b[31m---------------------------------------------------------------------------\u001b[39m",
      "\u001b[31mKeyboardInterrupt\u001b[39m                         Traceback (most recent call last)",
      "\u001b[36mCell\u001b[39m\u001b[36m \u001b[39m\u001b[32mIn[18]\u001b[39m\u001b[32m, line 175\u001b[39m\n\u001b[32m    173\u001b[39m action_batch   = select_action(obs_batch)\n\u001b[32m    174\u001b[39m action_grid    = clever_single_action(simulation, action_batch, obs_indices)\n\u001b[32m--> \u001b[39m\u001b[32m175\u001b[39m rewards, done, info = \u001b[43msimulation\u001b[49m\u001b[43m.\u001b[49m\u001b[43mstep\u001b[49m\u001b[43m(\u001b[49m\u001b[43maction_grid\u001b[49m\u001b[43m)\u001b[49m\n\u001b[32m    177\u001b[39m r_global = rewards[clever_pop_id].mean()                        \u001b[38;5;66;03m# (batch,)\u001b[39;00m\n\u001b[32m    178\u001b[39m rewards_buffer.append(r_global)\n",
      "\u001b[36mFile \u001b[39m\u001b[32m~/SHS-Life-Science-Philosophy-Altruism/Grid Simulation/cuda_env_project/cuda_square_simulation.py:217\u001b[39m, in \u001b[36mSquareSimulation.step\u001b[39m\u001b[34m(self, action_grid)\u001b[39m\n\u001b[32m    214\u001b[39m \u001b[38;5;28mself\u001b[39m.colonization_phase()\n\u001b[32m    216\u001b[39m \u001b[38;5;28;01mif\u001b[39;00m action_grid \u001b[38;5;129;01mis\u001b[39;00m \u001b[38;5;129;01mnot\u001b[39;00m \u001b[38;5;28;01mNone\u001b[39;00m:\n\u001b[32m--> \u001b[39m\u001b[32m217\u001b[39m     \u001b[38;5;28;43mself\u001b[39;49m\u001b[43m.\u001b[49m\u001b[43mconflict_phase\u001b[49m\u001b[43m(\u001b[49m\u001b[43maction_grid\u001b[49m\u001b[43m)\u001b[49m\n\u001b[32m    219\u001b[39m \u001b[38;5;66;03m# Compute rewards\u001b[39;00m\n\u001b[32m    220\u001b[39m rewards, done_batch, info = \u001b[38;5;28mself\u001b[39m.compute_rewards(past_grid)\n",
      "\u001b[36mFile \u001b[39m\u001b[32m~/SHS-Life-Science-Philosophy-Altruism/Grid Simulation/cuda_env_project/cuda_square_simulation.py:104\u001b[39m, in \u001b[36mSquareSimulation.conflict_phase\u001b[39m\u001b[34m(self, action_grid)\u001b[39m\n\u001b[32m    101\u001b[39m \u001b[38;5;28mself\u001b[39m.manage_donations(flat_grid, action_grid)\n\u001b[32m    103\u001b[39m \u001b[38;5;66;03m# Attacks\u001b[39;00m\n\u001b[32m--> \u001b[39m\u001b[32m104\u001b[39m \u001b[38;5;28;43mself\u001b[39;49m\u001b[43m.\u001b[49m\u001b[43mmanage_attacks\u001b[49m\u001b[43m(\u001b[49m\u001b[43mflat_grid\u001b[49m\u001b[43m,\u001b[49m\u001b[43m \u001b[49m\u001b[43maction_grid\u001b[49m\u001b[43m)\u001b[49m\n",
      "\u001b[36mFile \u001b[39m\u001b[32m~/SHS-Life-Science-Philosophy-Altruism/Grid Simulation/cuda_env_project/cuda_square_simulation.py:190\u001b[39m, in \u001b[36mSquareSimulation.manage_attacks\u001b[39m\u001b[34m(self, flat_grid, action_grid)\u001b[39m\n\u001b[32m    187\u001b[39m bonus[attacker_dying_cells] = vals[attacker_dying_cells]  \u001b[38;5;66;03m# Assign bonus to dying cells\u001b[39;00m\n\u001b[32m    188\u001b[39m bonus[defender_dying_cells] = vals_mapped_to_defender[defender_dying_cells]  \u001b[38;5;66;03m# Assign bonus to dying cells\u001b[39;00m\n\u001b[32m--> \u001b[39m\u001b[32m190\u001b[39m bonus = bonus / \u001b[43mnb_existing_neighbors\u001b[49m\u001b[43m.\u001b[49m\u001b[43mclamp\u001b[49m\u001b[43m(\u001b[49m\u001b[38;5;28;43mmin\u001b[39;49m\u001b[43m=\u001b[49m\u001b[43mSquareSimulation\u001b[49m\u001b[43m.\u001b[49m\u001b[43mEPS\u001b[49m\u001b[43m)\u001b[49m  \u001b[38;5;66;03m# Avoid division by zero\u001b[39;00m\n\u001b[32m    192\u001b[39m \u001b[38;5;66;03m# Distribute bonus using convolution with circular padding.\u001b[39;00m\n\u001b[32m    193\u001b[39m distributed_bonus = torch.nn.functional.conv2d(\n\u001b[32m    194\u001b[39m     torch.nn.functional.pad(bonus, (\u001b[32m1\u001b[39m, \u001b[32m1\u001b[39m, \u001b[32m1\u001b[39m, \u001b[32m1\u001b[39m), mode=\u001b[33m'\u001b[39m\u001b[33mcircular\u001b[39m\u001b[33m'\u001b[39m),\n\u001b[32m    195\u001b[39m     \u001b[38;5;28mself\u001b[39m.CIRC_KERNEL\n\u001b[32m    196\u001b[39m )\n",
      "\u001b[31mKeyboardInterrupt\u001b[39m: "
     ]
    }
   ],
   "source": [
    "simulation = SquareSimulation(nb_batch=nb_batches, rows=rows, cols=cols, populations=populations, device=device)\n",
    "simulation.reset()\n",
    "\n",
    "# ──────────────────────────────────────────────────────────────────────────────\n",
    "# 1. Hyper‑parameters\n",
    "# ──────────────────────────────────────────────────────────────────────────────\n",
    "gamma           = 0.98          # already in your code\n",
    "gae_lambda      = 0.95          # controls bias / variance trade‑off\n",
    "entropy_coef    = 0.01          # ↑ → more exploration\n",
    "value_coef      = 0.5           # weight of the value loss\n",
    "max_grad_norm   = 1.0           # gradient clipping\n",
    "lr              = 1e-4          # learning rate\n",
    "\n",
    "nb_epochs      = 50            # number of epochs per batch\n",
    "\n",
    "# ──────────────────────────────────────────────────────────────────────────────\n",
    "# 2. Network: policy *and* value in a single model\n",
    "# ──────────────────────────────────────────────────────────────────────────────\n",
    "class ActorCritic(nn.Module):\n",
    "    def __init__(self, obs_shape, num_actions=17):\n",
    "        super().__init__()\n",
    "        C, H, W = obs_shape\n",
    "        \n",
    "        self.action_counts = [0] * num_actions\n",
    "\n",
    "        self.flatten = nn.Flatten()\n",
    "        self.fc1     = nn.Linear(C * H * W, 100)\n",
    "        self.dropout = nn.Dropout(0.1)\n",
    "\n",
    "        self.pi_head = nn.Linear(100, num_actions)   # policy logits\n",
    "        self.v_head  = nn.Linear(100, 1)             # state‑value\n",
    "\n",
    "    def forward(self, x):\n",
    "        x = self.flatten(x)\n",
    "        x = F.relu(self.fc1(x))\n",
    "        x = self.dropout(x)\n",
    "\n",
    "        logits = self.pi_head(x)\n",
    "        value  = self.v_head(x).squeeze(-1)          # (batch,) not (batch,1)\n",
    "        probs  = F.softmax(logits, dim=-1)\n",
    "        return probs, value\n",
    "    \n",
    "class ActorCriticCNN(nn.Module):\n",
    "    \"\"\"\n",
    "    A minimal convolutional encoder followed by separate policy and value heads.\n",
    "    Works with any (C, H, W) observation size – the AdaptiveAvgPool2d collapses\n",
    "    spatial dimensions so no manual shape maths is needed.\n",
    "    \"\"\"\n",
    "    def __init__(self, obs_shape, num_actions=17):\n",
    "        super().__init__()\n",
    "        C, H, W = obs_shape            # H, W only needed for comments\n",
    "        \n",
    "        self.action_counts = [0] * num_actions\n",
    "\n",
    "        # ─── convolutional trunk ────────────────────────────────────────────\n",
    "        self.features = nn.Sequential(\n",
    "            nn.Conv2d(C, 16, kernel_size=3, stride=1, padding=1),  # (H, W) → (H, W)\n",
    "            nn.ReLU(inplace=True),\n",
    "            nn.Conv2d(16, 32, kernel_size=3, stride=1, padding=1), # (H, W) → (H, W)\n",
    "            nn.ReLU(inplace=True),\n",
    "            nn.AdaptiveAvgPool2d((1, 1))                           # (H, W) → (1, 1)\n",
    "        )\n",
    "        # output shape is (batch, 64, 1, 1) → flatten to 64 dim\n",
    "        self.flat = nn.Flatten()\n",
    "\n",
    "        # ─── heads ─────────────────────────────────────────────────────────-\n",
    "        self.policy_head = nn.Linear(32, num_actions)   # logits π(a|s)\n",
    "        self.value_head  = nn.Linear(32, 1)             # V(s)\n",
    "\n",
    "    def forward(self, x):\n",
    "        \"\"\"\n",
    "        x : Tensor  shape (batch, C, H, W)\n",
    "        Returns:\n",
    "            probs  : (batch, num_actions)\n",
    "            values : (batch,)  – squeezed to 1‑D\n",
    "        \"\"\"\n",
    "        x = self.features(x)          # (B, 64, 1, 1)\n",
    "        x = self.flat(x)              # (B, 64)\n",
    "\n",
    "        logits = self.policy_head(x)  # (B, num_actions)\n",
    "        value  = self.value_head(x).squeeze(-1)  # (B,)\n",
    "\n",
    "        probs = F.softmax(logits, dim=-1)\n",
    "        return probs, value\n",
    "\n",
    "policy_net = ActorCriticCNN(obs_shape).to(device)\n",
    "optimizer  = optim.Adam(policy_net.parameters(), lr)\n",
    "\n",
    "# ──────────────────────────────────────────────────────────────────────────────\n",
    "# 3. Storage helpers\n",
    "# ──────────────────────────────────────────────────────────────────────────────\n",
    "log_probs_buffer, values_buffer, rewards_buffer, entropies_buffer = [], [], [], []\n",
    "\n",
    "def select_action(obs):\n",
    "    obs       = obs.to(device)\n",
    "    probs, V  = policy_net(obs)               # forward pass\n",
    "    m         = Categorical(probs)\n",
    "    action    = m.sample()\n",
    "    \n",
    "    # update action counts\n",
    "    unique, counts = torch.unique(action, return_counts=True)\n",
    "    for u, c in zip(unique.tolist(), counts.tolist()):\n",
    "        policy_net.action_counts[u] += c / 10000\n",
    "\n",
    "    log_probs_buffer.append(m.log_prob(action).mean())\n",
    "    values_buffer.   append(V.mean())                # save the *state*-value\n",
    "    entropies_buffer.append(m.entropy().mean())      # for entropy bonus\n",
    "\n",
    "    return action                             # (batch,)\n",
    "\n",
    "# ──────────────────────────────────────────────────────────────────────────────\n",
    "# 4. Finish episode with GAE\n",
    "# ──────────────────────────────────────────────────────────────────────────────\n",
    "def finish_episode(next_value=0.0):\n",
    "    \"\"\"\n",
    "    Compute advantages (GAE‑λ) and returns, then do one optimiser step.\n",
    "    Pass `next_value=V(s_{T})` if you end in a non‑terminal state – here the\n",
    "    episode terminates at fixed length, so we set it to 0 by default.\n",
    "    \"\"\"\n",
    "    # 4.1 Stack episode tensors: shape (T,batch)\n",
    "    log_probs = torch.stack(log_probs_buffer)        # detach not needed\n",
    "    values    = torch.stack(values_buffer)\n",
    "    rewards   = torch.stack(rewards_buffer)\n",
    "    entropies = torch.stack(entropies_buffer)\n",
    "\n",
    "    # 4.2 Generalised Advantage Estimation (vectorised)\n",
    "    T = rewards.size(0)                     # number of time steps in the episode\n",
    "\n",
    "    advantages = torch.zeros_like(rewards)\n",
    "    gae = 0\n",
    "    with torch.no_grad():\n",
    "        next_V = next_value\n",
    "        for t in reversed(range(T)):\n",
    "            delta = rewards[t] + gamma * next_V - values[t]\n",
    "            gae   = delta + gamma * gae_lambda * gae\n",
    "            advantages[t] = gae\n",
    "            next_V = values[t]\n",
    "\n",
    "    returns = advantages + values               # targets for the value head\n",
    "\n",
    "    # 4.3 (Optionally) centre the advantages with the *mean return*\n",
    "    advantages = advantages - advantages.mean()\n",
    "\n",
    "    # 4.4 Losses\n",
    "    policy_loss = -(log_probs * advantages).mean()\n",
    "    value_loss  = F.mse_loss(values, returns)\n",
    "    entropy_loss= -entropies.mean()             # (minus) so we *subtract* later\n",
    "\n",
    "    loss = policy_loss + value_coef * value_loss + entropy_coef * entropy_loss\n",
    "\n",
    "    # 4.5 Back‑prop + clip\n",
    "    optimizer.zero_grad()\n",
    "    loss.backward()\n",
    "    torch.nn.utils.clip_grad_norm_(policy_net.parameters(), max_grad_norm)\n",
    "    optimizer.step()\n",
    "\n",
    "    # 4.6 Clear buffers for next trajectory\n",
    "    log_probs_buffer.clear()\n",
    "    values_buffer.   clear()\n",
    "    rewards_buffer.  clear()\n",
    "    entropies_buffer.clear()\n",
    "\n",
    "# ──────────────────────────────────────────────────────────────────────────────\n",
    "# 5. Training loop – only differences marked with (★)\n",
    "# ──────────────────────────────────────────────────────────────────────────────\n",
    "for i_episode in tqdm(range(nb_epochs)):\n",
    "    simulation.reset()\n",
    "    ep_reward = 0.0\n",
    "\n",
    "    for t in tqdm(range(500), leave=False):\n",
    "        obs_batch, obs_indices = simulation.get_deep_observations(clever_pop_id)\n",
    "\n",
    "        action_batch   = select_action(obs_batch)\n",
    "        action_grid    = clever_single_action(simulation, action_batch, obs_indices)\n",
    "        rewards, done, info = simulation.step(action_grid)\n",
    "\n",
    "        r_global = rewards[clever_pop_id].mean()                        # (batch,)\n",
    "        rewards_buffer.append(r_global)\n",
    "        ep_reward += r_global.item()                       # scalar for logging\n",
    "\n",
    "        # ★ update only at episode end\n",
    "    finish_episode()                                       # GAE uses boot‑strap V=0\n",
    "\n",
    "    print(f\"Episode {i_episode} | reward {ep_reward:.2f} | action counts {100 *np.array(policy_net.action_counts) / np.sum(policy_net.action_counts)}\")\n",
    "\n"
   ]
  },
  {
   "cell_type": "code",
   "execution_count": 21,
   "metadata": {},
   "outputs": [
    {
     "name": "stdout",
     "output_type": "stream",
     "text": [
      "Episode 000 | return -24.799\n",
      "Episode 001 | return -24.648\n",
      "Episode 002 | return -24.901\n",
      "Episode 003 | return -24.995\n",
      "Episode 004 | return -25.013\n",
      "Episode 005 | return -24.789\n",
      "Episode 006 | return -25.180\n",
      "Episode 007 | return -24.833\n",
      "Episode 008 | return -24.966\n",
      "Episode 009 | return -24.733\n",
      "Episode 010 | return -24.603\n",
      "Episode 011 | return -25.180\n"
     ]
    },
    {
     "ename": "OutOfMemoryError",
     "evalue": "CUDA out of memory. Tried to allocate 308.00 MiB. GPU 0 has a total capacity of 31.74 GiB of which 43.12 MiB is free. Including non-PyTorch memory, this process has 31.69 GiB memory in use. Of the allocated memory 31.07 GiB is allocated by PyTorch, and 243.52 MiB is reserved by PyTorch but unallocated. If reserved but unallocated memory is large try setting PYTORCH_CUDA_ALLOC_CONF=expandable_segments:True to avoid fragmentation.  See documentation for Memory Management  (https://pytorch.org/docs/stable/notes/cuda.html#environment-variables)",
     "output_type": "error",
     "traceback": [
      "\u001b[31m---------------------------------------------------------------------------\u001b[39m",
      "\u001b[31mOutOfMemoryError\u001b[39m                          Traceback (most recent call last)",
      "\u001b[36mCell\u001b[39m\u001b[36m \u001b[39m\u001b[32mIn[21]\u001b[39m\u001b[32m, line 157\u001b[39m\n\u001b[32m    154\u001b[39m     rew_buf.append(rewards[clever_pop_id].to(device))\n\u001b[32m    155\u001b[39m     ep_return += rewards[clever_pop_id].mean().item()\n\u001b[32m--> \u001b[39m\u001b[32m157\u001b[39m \u001b[43mppo_update\u001b[49m\u001b[43m(\u001b[49m\u001b[43m)\u001b[49m                                             \u001b[38;5;66;03m# ← big update\u001b[39;00m\n\u001b[32m    158\u001b[39m \u001b[38;5;28mprint\u001b[39m(\u001b[33mf\u001b[39m\u001b[33m\"\u001b[39m\u001b[33mEpisode \u001b[39m\u001b[38;5;132;01m{\u001b[39;00mepi\u001b[38;5;132;01m:\u001b[39;00m\u001b[33m03d\u001b[39m\u001b[38;5;132;01m}\u001b[39;00m\u001b[33m | return \u001b[39m\u001b[38;5;132;01m{\u001b[39;00mep_return\u001b[38;5;132;01m:\u001b[39;00m\u001b[33m.3f\u001b[39m\u001b[38;5;132;01m}\u001b[39;00m\u001b[33m\"\u001b[39m)\n",
      "\u001b[36mCell\u001b[39m\u001b[36m \u001b[39m\u001b[32mIn[21]\u001b[39m\u001b[32m, line 123\u001b[39m, in \u001b[36mppo_update\u001b[39m\u001b[34m()\u001b[39m\n\u001b[32m    120\u001b[39m     gae    *= valid\n\u001b[32m    121\u001b[39m     advantages[t] = gae\n\u001b[32m--> \u001b[39m\u001b[32m123\u001b[39m returns_pad = \u001b[43madvantages\u001b[49m\u001b[43m \u001b[49m\u001b[43m+\u001b[49m\u001b[43m \u001b[49m\u001b[43mval_pad\u001b[49m\n\u001b[32m    125\u001b[39m \u001b[38;5;66;03m# ---------------------------------------------------------------------\u001b[39;00m\n\u001b[32m    126\u001b[39m \u001b[38;5;66;03m# 2‑D  flatten only valid positions and continue (unchanged)\u001b[39;00m\n\u001b[32m    127\u001b[39m \u001b[38;5;66;03m# ---------------------------------------------------------------------\u001b[39;00m\n\u001b[32m    128\u001b[39m flat_mask      = mask.view(-\u001b[32m1\u001b[39m)\n",
      "\u001b[31mOutOfMemoryError\u001b[39m: CUDA out of memory. Tried to allocate 308.00 MiB. GPU 0 has a total capacity of 31.74 GiB of which 43.12 MiB is free. Including non-PyTorch memory, this process has 31.69 GiB memory in use. Of the allocated memory 31.07 GiB is allocated by PyTorch, and 243.52 MiB is reserved by PyTorch but unallocated. If reserved but unallocated memory is large try setting PYTORCH_CUDA_ALLOC_CONF=expandable_segments:True to avoid fragmentation.  See documentation for Memory Management  (https://pytorch.org/docs/stable/notes/cuda.html#environment-variables)"
     ]
    }
   ],
   "source": [
    "# ═════════════════════════════════════════════════════════════════════════════\n",
    "# 0.  Hyper‑parameters (tweak as you like)\n",
    "# ═════════════════════════════════════════════════════════════════════════════\n",
    "gamma            = 0.99\n",
    "gae_lambda       = 0.95\n",
    "clip_epsilon     = 0.20\n",
    "entropy_coef     = 0.01\n",
    "value_coef       = 0.5\n",
    "max_grad_norm    = 1.0\n",
    "\n",
    "rollout_len      = 500      # env steps per episode (= rollout)\n",
    "ppo_epochs       = 4        # optimisation passes per rollout\n",
    "minibatch_size   = 4096     # samples per minibatch (after flattening)\n",
    "\n",
    "# ═════════════════════════════════════════════════════════════════════════════\n",
    "# 1.  CNN‑based actor‑critic (unchanged from previous answer)\n",
    "# ═════════════════════════════════════════════════════════════════════════════\n",
    "class ActorCriticCNN(nn.Module):\n",
    "    def __init__(self, obs_shape, num_actions=17):\n",
    "        super().__init__()\n",
    "        C, _, _ = obs_shape\n",
    "        self.features = nn.Sequential(\n",
    "            nn.Conv2d(C, 32, 3, 1, 1), nn.ReLU(inplace=True),\n",
    "            nn.Conv2d(32, 64, 3, 1, 1), nn.ReLU(inplace=True),\n",
    "            nn.AdaptiveAvgPool2d((1, 1))\n",
    "        )\n",
    "        self.flat         = nn.Flatten()\n",
    "        self.policy_head  = nn.Linear(64, num_actions)\n",
    "        self.value_head   = nn.Linear(64, 1)\n",
    "\n",
    "    def forward(self, x):\n",
    "        x = self.flat(self.features(x))\n",
    "        logits = self.policy_head(x)\n",
    "        value  = self.value_head(x).squeeze(-1)\n",
    "        probs  = F.softmax(logits, dim=-1)\n",
    "        return probs, value\n",
    "\n",
    "policy_net = ActorCriticCNN(obs_shape).to(device)\n",
    "optimizer  = optim.Adam(policy_net.parameters(), lr)\n",
    "\n",
    "# ═════════════════════════════════════════════════════════════════════════════\n",
    "# 2.  Roll‑out buffers (lists of tensors)\n",
    "# ═════════════════════════════════════════════════════════════════════════════\n",
    "obs_buf, act_buf, logp_buf, val_buf, rew_buf = [], [], [], [], []\n",
    "\n",
    "def select_action(obs_batch):\n",
    "    obs_batch = obs_batch.to(device)\n",
    "    probs, values = policy_net(obs_batch)      # logits → dist\n",
    "    dist   = Categorical(probs)\n",
    "    action = dist.sample()\n",
    "\n",
    "    # ─── store step data ────────────────────────────────────────────────────\n",
    "    obs_buf .append(obs_batch.detach())        # (B, C, H, W)\n",
    "    act_buf .append(action.detach())           # (B,)\n",
    "    logp_buf.append(dist.log_prob(action).detach())\n",
    "    val_buf .append(values.detach())\n",
    "    return action\n",
    "\n",
    "# ═════════════════════════════════════════════════════════════════════════════\n",
    "# 3.  Helper: pad variable‑length batches then mask\n",
    "# ═════════════════════════════════════════════════════════════════════════════\n",
    "def _pad(seq, B_max=None):\n",
    "    \"\"\"\n",
    "    Pad a list of 0‑D / 1‑D / 2‑D tensors along dim0.\n",
    "    If B_max is given, use it for the second dimension so *every* buffer\n",
    "    ends up with the same width.\n",
    "    Returns padded tensor and boolean mask.\n",
    "    \"\"\"\n",
    "    seq = [s.unsqueeze(0) if s.dim() == 0 else s for s in seq]\n",
    "\n",
    "    if B_max is None:\n",
    "        B_max = max(s.size(0) for s in seq)\n",
    "\n",
    "    T     = len(seq)\n",
    "    base  = seq[0]\n",
    "    pad   = torch.zeros((T, B_max, *base.shape[1:]),\n",
    "                        dtype=base.dtype, device=base.device)\n",
    "    mask  = torch.zeros(T, B_max, dtype=torch.bool, device=base.device)\n",
    "\n",
    "    for t, s in enumerate(seq):\n",
    "        L = s.size(0)\n",
    "        pad[t, :L]  = s\n",
    "        mask[t, :L] = True\n",
    "\n",
    "    return pad, mask\n",
    "\n",
    "\n",
    "\n",
    "# ═════════════════════════════════════════════════════════════════════════════\n",
    "# 4.  GAE + PPO update (called once per rollout)\n",
    "# ═════════════════════════════════════════════════════════════════════════════\n",
    "def ppo_update():\n",
    "    # ---------------------------------------------------------------------\n",
    "    # 2‑A  determine the global B_max across *all* rollout buffers\n",
    "    # ---------------------------------------------------------------------\n",
    "    candidates = obs_buf + val_buf + rew_buf           # lists of tensors\n",
    "    B_max_glob = max(t.size(0) if t.dim() else 1       # 0‑D → size 1\n",
    "                     for t in candidates)\n",
    "\n",
    "    # ---------------------------------------------------------------------\n",
    "    # 2‑B  pad every buffer with *the same* B_max_glob\n",
    "    # ---------------------------------------------------------------------\n",
    "    rew_pad,  mask = _pad(rew_buf,  B_max_glob)        # (T, B_max)\n",
    "    obs_pad,  _    = _pad(obs_buf,  B_max_glob)        # (T, B_max, C, H, W)\n",
    "    act_pad,  _    = _pad(act_buf,  B_max_glob)        # (T, B_max)\n",
    "    logp_pad, _    = _pad(logp_buf, B_max_glob)        # (T, B_max)\n",
    "    val_pad,  _    = _pad(val_buf, B_max_glob)         # (T, B_max)\n",
    "\n",
    "    T, B = mask.shape\n",
    "    advantages = torch.zeros_like(rew_pad)\n",
    "    gae        = torch.zeros(B, device=device)\n",
    "\n",
    "    # ---------------------------------------------------------------------\n",
    "    # 2‑C  cell‑wise GAE with masking (unchanged)\n",
    "    # ---------------------------------------------------------------------\n",
    "    for t in reversed(range(T)):\n",
    "        valid   = mask[t]\n",
    "        delta   = rew_pad[t] + gamma * gae * valid - val_pad[t]\n",
    "        gae     = delta + gamma * gae_lambda * gae\n",
    "        gae    *= valid\n",
    "        advantages[t] = gae\n",
    "\n",
    "    returns_pad = advantages + val_pad\n",
    "\n",
    "    # ---------------------------------------------------------------------\n",
    "    # 2‑D  flatten only valid positions and continue (unchanged)\n",
    "    # ---------------------------------------------------------------------\n",
    "    flat_mask      = mask.view(-1)\n",
    "    obs_flat       = obs_pad .view(-1, *obs_pad.shape[2:])[flat_mask]\n",
    "    act_flat       = act_pad .view(-1)[flat_mask]\n",
    "    logp_old_flat  = logp_pad.view(-1)[flat_mask]\n",
    "    adv_flat       = advantages.view(-1)[flat_mask]\n",
    "    ret_flat       = returns_pad.view(-1)[flat_mask]\n",
    "\n",
    "    adv_flat = (adv_flat - adv_flat.mean()) / (adv_flat.std() + 1e-8)\n",
    "\n",
    "    # PPO mini‑batch loops … (exactly as before)\n",
    "\n",
    "# ═════════════════════════════════════════════════════════════════════════════\n",
    "# 5.  Training loop\n",
    "# ═════════════════════════════════════════════════════════════════════════════\n",
    "for epi in tqdm(range(nb_epochs)):\n",
    "    simulation.reset()\n",
    "    ep_return = 0.0\n",
    "\n",
    "    for t in range(rollout_len):\n",
    "        obs_batch, obs_idx = simulation.get_deep_observations(clever_pop_id)\n",
    "\n",
    "        action_batch   = select_action(obs_batch)            # uses old π\n",
    "        grid_actions   = clever_single_action(simulation, action_batch, obs_idx)\n",
    "        rewards, _, _  = simulation.step(grid_actions)\n",
    "\n",
    "        # local (per‑cell) reward\n",
    "        rew_buf.append(rewards[clever_pop_id].to(device))\n",
    "        ep_return += rewards[clever_pop_id].mean().item()\n",
    "\n",
    "    ppo_update()                                             # ← big update\n",
    "    print(f\"Episode {epi:03d} | return {ep_return:.3f}\")\n"
   ]
  },
  {
   "cell_type": "code",
   "execution_count": null,
   "metadata": {},
   "outputs": [],
   "source": []
  }
 ],
 "metadata": {
  "kernelspec": {
   "display_name": "default",
   "language": "python",
   "name": "python3"
  },
  "language_info": {
   "codemirror_mode": {
    "name": "ipython",
    "version": 3
   },
   "file_extension": ".py",
   "mimetype": "text/x-python",
   "name": "python",
   "nbconvert_exporter": "python",
   "pygments_lexer": "ipython3",
   "version": "3.13.3"
  }
 },
 "nbformat": 4,
 "nbformat_minor": 2
}
