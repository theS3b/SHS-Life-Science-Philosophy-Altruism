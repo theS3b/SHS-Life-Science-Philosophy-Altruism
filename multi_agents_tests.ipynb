{
 "cells": [
  {
   "cell_type": "code",
   "execution_count": 3,
   "outputs": [],
   "source": [
    "from __future__ import annotations\n",
    "\n",
    "from minigrid.core.constants import COLOR_NAMES\n",
    "from minigrid.core.grid import Grid\n",
    "from minigrid.core.mission import MissionSpace\n",
    "from minigrid.core.world_object import Door, Goal, Key, Wall\n",
    "from minigrid.manual_control import ManualControl\n",
    "from minigrid.minigrid_env import MiniGridEnv"
   ],
   "metadata": {
    "collapsed": false
   }
  },
  {
   "cell_type": "code",
   "execution_count": 4,
   "outputs": [],
   "source": [
    "class MultiAgentEnv(MiniGridEnv):\n",
    "    def __init__(self, size=10, num_agents=2, render_mode=\"human\"):\n",
    "        self.num_agents = num_agents\n",
    "        self.agent_start_positions = [(1, 1), (3, 3), (2,2)]\n",
    "        self.agent_dirs = [0, 1, 2]\n",
    "        self.active_agent = 0\n",
    "\n",
    "        mission_space = MissionSpace(mission_func=self._gen_mission)\n",
    "\n",
    "        super().__init__(\n",
    "            grid_size=size,\n",
    "            render_mode=render_mode,\n",
    "            max_steps=100,\n",
    "            mission_space=mission_space\n",
    "        )\n",
    "\n",
    "    @staticmethod\n",
    "    def _gen_mission():\n",
    "        return \"grand mission\"\n",
    "\n",
    "    def _gen_grid(self, width, height):\n",
    "        # Create an empty grid\n",
    "        self.grid = Grid(width, height)\n",
    "\n",
    "        # Generate the surrounding walls\n",
    "        self.grid.wall_rect(0, 0, width, height)\n",
    "\n",
    "        # Generate vertical separation wall\n",
    "        for i in range(0, height):\n",
    "            self.grid.set(5, i, Wall())\n",
    "\n",
    "        # Place the door and key\n",
    "        self.grid.set(5, 6, Door(COLOR_NAMES[0], is_locked=True))\n",
    "        self.grid.set(3, 6, Key(COLOR_NAMES[0]))\n",
    "\n",
    "        # Place a goal square in the bottom-right corner\n",
    "        self.put_obj(Goal(), width - 2, height - 2)\n",
    "\n",
    "        # Place the agent\n",
    "        for i, pos in enumerate(self.agent_start_positions):\n",
    "            self.place_agent(pos, size=(1, 1), rand_dir=True)  #\n",
    "            self.agent_dirs[i]\n",
    "\n",
    "    def reset(self, **kwargs):\n",
    "        obs, info = super().reset(**kwargs)\n",
    "        self.active_agent = 0\n",
    "        return obs, info\n",
    "\n",
    "    def step(self, action):\n",
    "\n",
    "        self.agent_pos = self.agent_start_positions[self.active_agent]\n",
    "        self.agent_dir = self.agent_dirs[self.active_agent]\n",
    "\n",
    "        obs, reward, done, truncated, info = super().step(action)\n",
    "\n",
    "        self.agent_start_positions[self.active_agent] = self.agent_pos\n",
    "        self.agent_dirs[self.active_agent] = self.agent_dir\n",
    "\n",
    "        return obs, reward, done, truncated, info"
   ],
   "metadata": {
    "collapsed": false
   }
  },
  {
   "cell_type": "code",
   "execution_count": 5,
   "outputs": [],
   "source": [
    "class MultiAgentManualControl(ManualControl):\n",
    "    def __init__(self, env):\n",
    "        super().__init__(env)\n",
    "        self.env = env\n",
    "\n",
    "    def key_handler(self, event):\n",
    "        if event.key == 't':\n",
    "            self.env.active_agent = (self.env.active_agent + 1) % self.env.num_agents\n",
    "            print(f\"Active agent: {self.env.active_agent}\")\n",
    "        else:\n",
    "            super().key_handler(event)"
   ],
   "metadata": {
    "collapsed": false
   }
  },
  {
   "cell_type": "code",
   "execution_count": 7,
   "outputs": [
    {
     "name": "stdout",
     "output_type": "stream",
     "text": [
      "pressed up\n",
      "step=1, reward=0.00\n",
      "pressed up\n",
      "step=2, reward=0.00\n",
      "pressed up\n",
      "step=3, reward=0.00\n",
      "pressed right\n",
      "step=4, reward=0.00\n",
      "pressed up\n",
      "step=5, reward=0.00\n",
      "pressed up\n",
      "step=6, reward=0.00\n",
      "pressed up\n",
      "step=7, reward=0.00\n",
      "pressed up\n",
      "step=8, reward=0.00\n",
      "pressed up\n",
      "step=9, reward=0.00\n",
      "pressed up\n",
      "step=10, reward=0.00\n",
      "pressed up\n",
      "step=11, reward=0.00\n",
      "pressed up\n",
      "step=12, reward=0.00\n",
      "pressed up\n",
      "step=13, reward=0.00\n",
      "pressed up\n",
      "step=14, reward=0.00\n",
      "pressed up\n",
      "step=15, reward=0.00\n",
      "Active agent: 1\n",
      "pressed up\n",
      "step=16, reward=0.00\n",
      "pressed right\n",
      "step=17, reward=0.00\n",
      "pressed up\n",
      "step=18, reward=0.00\n",
      "pressed left\n",
      "step=19, reward=0.00\n",
      "pressed up\n",
      "step=20, reward=0.00\n",
      "pressed up\n",
      "step=21, reward=0.00\n",
      "pressed up\n",
      "step=22, reward=0.00\n",
      "pressed up\n",
      "step=23, reward=0.00\n",
      "pressed up\n",
      "step=24, reward=0.00\n",
      "Active agent: 2\n",
      "pressed up\n",
      "step=25, reward=0.00\n",
      "pressed right\n",
      "step=26, reward=0.00\n",
      "pressed right\n",
      "step=27, reward=0.00\n",
      "pressed right\n",
      "step=28, reward=0.00\n",
      "pressed up\n",
      "step=29, reward=0.00\n",
      "pressed up\n",
      "step=30, reward=0.00\n",
      "pressed up\n",
      "step=31, reward=0.00\n",
      "Active agent: 0\n",
      "pressed up\n",
      "step=32, reward=0.00\n",
      "pressed up\n",
      "step=33, reward=0.00\n",
      "pressed up\n",
      "step=34, reward=0.00\n",
      "pressed left meta\n",
      "left meta\n",
      "pressed q\n",
      "q\n"
     ]
    },
    {
     "ename": "error",
     "evalue": "video system not initialized",
     "output_type": "error",
     "traceback": [
      "\u001B[0;31m---------------------------------------------------------------------------\u001B[0m",
      "\u001B[0;31merror\u001B[0m                                     Traceback (most recent call last)",
      "Cell \u001B[0;32mIn[7], line 3\u001B[0m\n\u001B[1;32m      1\u001B[0m env \u001B[38;5;241m=\u001B[39m MultiAgentEnv(size\u001B[38;5;241m=\u001B[39m\u001B[38;5;241m25\u001B[39m, num_agents\u001B[38;5;241m=\u001B[39m\u001B[38;5;241m3\u001B[39m, render_mode\u001B[38;5;241m=\u001B[39m\u001B[38;5;124m\"\u001B[39m\u001B[38;5;124mhuman\u001B[39m\u001B[38;5;124m\"\u001B[39m)\n\u001B[1;32m      2\u001B[0m manual_control \u001B[38;5;241m=\u001B[39m MultiAgentManualControl(env)\n\u001B[0;32m----> 3\u001B[0m \u001B[43mmanual_control\u001B[49m\u001B[38;5;241;43m.\u001B[39;49m\u001B[43mstart\u001B[49m\u001B[43m(\u001B[49m\u001B[43m)\u001B[49m\n",
      "File \u001B[0;32m/opt/miniconda3/envs/SHS/lib/python3.10/site-packages/minigrid/manual_control.py:29\u001B[0m, in \u001B[0;36mManualControl.start\u001B[0;34m(self)\u001B[0m\n\u001B[1;32m     26\u001B[0m \u001B[38;5;28mself\u001B[39m\u001B[38;5;241m.\u001B[39mreset(\u001B[38;5;28mself\u001B[39m\u001B[38;5;241m.\u001B[39mseed)\n\u001B[1;32m     28\u001B[0m \u001B[38;5;28;01mwhile\u001B[39;00m \u001B[38;5;129;01mnot\u001B[39;00m \u001B[38;5;28mself\u001B[39m\u001B[38;5;241m.\u001B[39mclosed:\n\u001B[0;32m---> 29\u001B[0m     \u001B[38;5;28;01mfor\u001B[39;00m event \u001B[38;5;129;01min\u001B[39;00m \u001B[43mpygame\u001B[49m\u001B[38;5;241;43m.\u001B[39;49m\u001B[43mevent\u001B[49m\u001B[38;5;241;43m.\u001B[39;49m\u001B[43mget\u001B[49m\u001B[43m(\u001B[49m\u001B[43m)\u001B[49m:\n\u001B[1;32m     30\u001B[0m         \u001B[38;5;28;01mif\u001B[39;00m event\u001B[38;5;241m.\u001B[39mtype \u001B[38;5;241m==\u001B[39m pygame\u001B[38;5;241m.\u001B[39mQUIT:\n\u001B[1;32m     31\u001B[0m             \u001B[38;5;28mself\u001B[39m\u001B[38;5;241m.\u001B[39menv\u001B[38;5;241m.\u001B[39mclose()\n",
      "\u001B[0;31merror\u001B[0m: video system not initialized"
     ]
    }
   ],
   "source": [
    "env = MultiAgentEnv(size=25, num_agents=3, render_mode=\"human\")\n",
    "manual_control = MultiAgentManualControl(env)\n",
    "manual_control.start()"
   ],
   "metadata": {
    "collapsed": false
   }
  },
  {
   "cell_type": "code",
   "execution_count": null,
   "outputs": [],
   "source": [],
   "metadata": {
    "collapsed": false
   }
  }
 ],
 "metadata": {
  "kernelspec": {
   "display_name": "Python 3",
   "language": "python",
   "name": "python3"
  },
  "language_info": {
   "codemirror_mode": {
    "name": "ipython",
    "version": 2
   },
   "file_extension": ".py",
   "mimetype": "text/x-python",
   "name": "python",
   "nbconvert_exporter": "python",
   "pygments_lexer": "ipython2",
   "version": "2.7.6"
  }
 },
 "nbformat": 4,
 "nbformat_minor": 0
}
